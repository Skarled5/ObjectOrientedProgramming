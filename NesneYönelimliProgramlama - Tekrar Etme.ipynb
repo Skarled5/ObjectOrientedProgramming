{
 "cells": [
  {
   "cell_type": "code",
   "execution_count": 1,
   "id": "c5809405",
   "metadata": {},
   "outputs": [],
   "source": [
    "# Bir sınıf içinde birden fazla __init__ metodu tanımlamak,\n",
    "# Python'da geçerli bir yaklaşım değildir. Her sınıf yalnızca bir tane __init__ metodu içerebilir"
   ]
  },
  {
   "cell_type": "code",
   "execution_count": 27,
   "id": "3f05e0cf",
   "metadata": {},
   "outputs": [
    {
     "name": "stdout",
     "output_type": "stream",
     "text": [
      "Hello Im Zlatan\n"
     ]
    }
   ],
   "source": [
    "class Main:\n",
    "    # class attributes\n",
    "    gizli = \"gdfgfdg\"\n",
    "    def __init__(self, adı=None, yas=None):\n",
    "        # object attributes\n",
    "        self.adı = adı\n",
    "        self.yas = yas\n",
    "        \n",
    "    def intro(self):\n",
    "        print(\"Hello Im \"+self.adı)\n",
    "\n",
    "ornek_nesne = Main(\"Zlatan\",30)\n",
    "ornek_nesne.intro() # () bunu koymazsan deger çıkmaz bellekte tutulan konum çıkar unutma"
   ]
  },
  {
   "cell_type": "code",
   "execution_count": 20,
   "id": "fcdae2c0",
   "metadata": {},
   "outputs": [
    {
     "name": "stdout",
     "output_type": "stream",
     "text": [
      "Adı: Zlatan\n",
      "Yeni Adı: Hakan\n",
      "gdfgfdg\n"
     ]
    }
   ],
   "source": [
    "print(\"Adı:\", ornek_nesne.adı)\n",
    "ornek_nesne.adı = \"Hakan\"\n",
    "print(\"Yeni Adı: \"+ornek_nesne.adı)\n",
    "\n",
    "print(ornek_nesne.gizli)"
   ]
  },
  {
   "cell_type": "code",
   "execution_count": 32,
   "id": "4b12678f",
   "metadata": {},
   "outputs": [
    {
     "name": "stdout",
     "output_type": "stream",
     "text": [
      "c1 : alan = 3.14 çevre = 7.28\n",
      "c2 : alan = 78.5 çevre = 11.280000000000001\n"
     ]
    }
   ],
   "source": [
    "class Hesap:\n",
    "    \n",
    "    pi = 3.14\n",
    "    \n",
    "    def __init__(self,yarıcap=1):\n",
    "        self.yarıcap = yarıcap\n",
    "        \n",
    "    def cevre_hesapla(self):\n",
    "        return 2*self.pi + self.yarıcap\n",
    "    \n",
    "    def alan_hesapla(self):\n",
    "        return self.pi * (self.yarıcap**2)\n",
    "    \n",
    "c1 = Hesap()\n",
    "c2 = Hesap(5)\n",
    "\n",
    "print(f'c1 : alan = {c1.alan_hesapla()} çevre = {c1.cevre_hesapla()}')\n",
    "print(f'c2 : alan = {c2.alan_hesapla()} çevre = {c2.cevre_hesapla()}')\n"
   ]
  },
  {
   "cell_type": "code",
   "execution_count": 7,
   "id": "c773998d",
   "metadata": {},
   "outputs": [
    {
     "name": "stdout",
     "output_type": "stream",
     "text": [
      "Movie Objesi Oluştu\n",
      "film adı by yönetmen adı by 120\n",
      "120\n",
      "film silindi\n"
     ]
    },
    {
     "ename": "NameError",
     "evalue": "name 'm' is not defined",
     "output_type": "error",
     "traceback": [
      "\u001b[1;31m---------------------------------------------------------------------------\u001b[0m",
      "\u001b[1;31mNameError\u001b[0m                                 Traceback (most recent call last)",
      "Input \u001b[1;32mIn [7]\u001b[0m, in \u001b[0;36m<cell line: 24>\u001b[1;34m()\u001b[0m\n\u001b[0;32m     20\u001b[0m \u001b[38;5;28mprint\u001b[39m(\u001b[38;5;28mlen\u001b[39m(m))\n\u001b[0;32m     22\u001b[0m \u001b[38;5;28;01mdel\u001b[39;00m m \u001b[38;5;66;03m# objeyi del ile sildik\u001b[39;00m\n\u001b[1;32m---> 24\u001b[0m \u001b[38;5;28mprint\u001b[39m(\u001b[43mm\u001b[49m)\n",
      "\u001b[1;31mNameError\u001b[0m: name 'm' is not defined"
     ]
    }
   ],
   "source": [
    "# Özel metodlar, farklı durumlarda otomatik olarak çağrılırlar \n",
    "# belirli işlemleri gerçekleştirmek üzere Python tarafından tanınan özel isimlendirmelerdir\n",
    "\n",
    "\n",
    "class Movie():\n",
    "    def __init__(self,title,director,duration):\n",
    "        self.title = title\n",
    "        self.director = director\n",
    "        self.duration = duration\n",
    "        print(\"Movie Objesi Oluştu\")\n",
    "        \n",
    "    def __str__(self):\n",
    "        return f\"{self.title} by {self.director} by {self.duration}\" \n",
    "    \n",
    "    def __len__(self):\n",
    "        return self.duration\n",
    "    \n",
    "    def __del__(self):\n",
    "        print(\"film silindi\")\n",
    "        \n",
    "        \n",
    "\n",
    "m = Movie(\"film adı\",\"yönetmen adı\",120)\n",
    "print(str(m))\n",
    "print(len(m))\n",
    "\n",
    "del m # objeyi del ile sildik\n",
    "\n",
    "print(m)"
   ]
  },
  {
   "cell_type": "markdown",
   "id": "91071114",
   "metadata": {},
   "source": [
    "__init__(self, ...): Sınıf örnekleri oluşturulurken çağrılan başlatıcı metot. İlk örnek oluşturulduğunda otomatik olarak çalışır.\n",
    "\n",
    "__str__(self): str() fonksiyonu ile çağrılan metot. Bir sınıf örneğinin insan-okunabilir temsilini döndürür.\n",
    "\n",
    "__len__(self): len() fonksiyonu ile çağrılan metot. Bir sınıf örneğinin uzunluğunu belirlemek için kullanılır.\n",
    "\n",
    "__del__(self): Bir sınıf örneği silindiğinde çağrılan metot. Bellek temizliği veya kapanma işlemleri gibi kullanım için tercih edilmez."
   ]
  },
  {
   "cell_type": "code",
   "execution_count": 18,
   "id": "bb942538",
   "metadata": {},
   "outputs": [
    {
     "name": "stdout",
     "output_type": "stream",
     "text": [
      "True\n",
      "1\n",
      "2\n",
      "3\n",
      "4\n",
      "5\n",
      "6\n",
      "cevap: 6\n",
      "False\n",
      "Ankaranın plakası nedir?\n"
     ]
    }
   ],
   "source": [
    "class Question:\n",
    "    def __init__(self,text,choices,answer):\n",
    "        self.text = text\n",
    "        self.choices = choices\n",
    "        self.answer = answer\n",
    "        \n",
    "    def checkAnswer(self,answer):\n",
    "        return self.answer == answer\n",
    "\n",
    "a = Question(\"Ankaranın plakası nedir?\",[1,2,3,4,5,6],6)\n",
    "a1 = Question(\"İstanbul plakası nedir?\",[34,1,2,3,4,5],34)\n",
    "a2 = Question(\"En Büyük Dağ?\",[\"Ağrı\",\"Erciyes\",\"Fırat\"],\"Ağrı\")\n",
    "b = a.checkAnswer(6)\n",
    "print(b)\n",
    "\n",
    "class Quiz:\n",
    "    def __init__(self,quastions):\n",
    "        self.quastions = quastions\n",
    "        self.quastionsIndex = 0\n",
    "        \n",
    "        for i in quastion.choices:\n",
    "            print(i)\n",
    "            \n",
    "        answer = input(\"cevap: \")\n",
    "        print(quastion.checkAnswer(answer))\n",
    "        \n",
    "\n",
    "a = Question(\"Ankaranın plakası nedir?\",[1,2,3,4,5,6],6)\n",
    "a1 = Question(\"İstanbul plakası nedir?\",[34,1,2,3,4,5],34)\n",
    "a2 = Question(\"En Büyük Dağ?\",[\"Ağrı\",\"Erciyes\",\"Fırat\"],\"Ağrı\")\n",
    "        \n",
    "quastions = [a,a1,a2]\n",
    "quiz = Quiz(quastions)\n",
    "quastion = quiz.quastions[quiz.quastionsIndex]\n",
    "print(quastion.text)"
   ]
  },
  {
   "cell_type": "code",
   "execution_count": null,
   "id": "481c7c1d",
   "metadata": {},
   "outputs": [],
   "source": []
  }
 ],
 "metadata": {
  "kernelspec": {
   "display_name": "Python 3 (ipykernel)",
   "language": "python",
   "name": "python3"
  },
  "language_info": {
   "codemirror_mode": {
    "name": "ipython",
    "version": 3
   },
   "file_extension": ".py",
   "mimetype": "text/x-python",
   "name": "python",
   "nbconvert_exporter": "python",
   "pygments_lexer": "ipython3",
   "version": "3.9.12"
  }
 },
 "nbformat": 4,
 "nbformat_minor": 5
}
